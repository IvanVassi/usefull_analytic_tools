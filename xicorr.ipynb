{
 "cells": [
  {
   "cell_type": "markdown",
   "id": "ef1e6631-985f-4e7c-9f26-b23038d74a16",
   "metadata": {},
   "source": [
    "## Code based on S. Chatterjee, A New Coefficient of Correlation (2020), Journal of the American Statistical Association."
   ]
  },
  {
   "cell_type": "code",
   "execution_count": 33,
   "id": "28495f60-b670-4a13-950a-4a20476148e4",
   "metadata": {
    "tags": []
   },
   "outputs": [],
   "source": [
    "import numpy as np\n",
    "from scipy.stats import rankdata, norm"
   ]
  },
  {
   "cell_type": "code",
   "execution_count": 33,
   "id": "b124880d-9b1a-4e5f-9cb1-216e8ff0ff4f",
   "metadata": {
    "tags": []
   },
   "outputs": [],
   "source": [
    "def xicor2(x, y, ties=\"auto\"):\n",
    "    x = np.asarray(x).flatten()\n",
    "    y = np.asarray(y).flatten()\n",
    "    n = len(y)\n",
    "\n",
    "    if len(x) != n:\n",
    "        raise IndexError(\n",
    "            f\"x, y length mismatch: {len(x)}, {len(y)}\"\n",
    "        )\n",
    "\n",
    "    if ties == \"auto\":\n",
    "        ties = len(np.unique(y)) < n\n",
    "    elif not isinstance(ties, bool):\n",
    "        raise ValueError(\n",
    "            f\"expected ties either \\\"auto\\\" or boolean, \"\n",
    "            f\"got {ties} ({type(ties)}) instead\"\n",
    "        )\n",
    "    \n",
    "    y = y[np.argsort(x)]\n",
    "    r = rankdata(y, method=\"ordinal\")\n",
    "    nominator = np.sum(np.abs(np.diff(r)))\n",
    "\n",
    "    if ties:\n",
    "        l = rankdata(y, method=\"max\")\n",
    "        denominator = 2 * np.sum(l * (n - l))\n",
    "        nominator *= n\n",
    "    else:\n",
    "        denominator = np.power(n, 2) - 1\n",
    "        nominator *= 3\n",
    "\n",
    "    statistic = 1 - nominator / denominator  # upper bound is (n - 2) / (n + 1)\n",
    "    p_value = norm.sf(statistic, scale=2 / 5 / np.sqrt(n))\n",
    "\n",
    "    return statistic, p_value"
   ]
  },
  {
   "cell_type": "code",
   "execution_count": 45,
   "id": "15bb2f9c-25dd-4b5b-99cf-909a2d23c3de",
   "metadata": {
    "tags": []
   },
   "outputs": [],
   "source": [
    "from scipy.stats import pearsonr, spearmanr, kendalltau\n",
    "\n",
    "def calculate_correlation_coeffs(X, Y):\n",
    "    # Calculate the Pearson correlation coefficient\n",
    "    pearson_corr, _ = pearsonr(X, Y)\n",
    "    \n",
    "    # Calculate the Spearman's rank correlation coefficient\n",
    "    spearman_corr, _ = spearmanr(X, Y)\n",
    "\n",
    "    # Calculate Kendall's Tau correlation coefficient\n",
    "    kendall_corr, _ = kendalltau(X, Y)\n",
    "    \n",
    "    return pearson_corr, spearman_corr, kendall_corr\n",
    "\n",
    "# Usage"
   ]
  },
  {
   "cell_type": "code",
   "execution_count": 53,
   "id": "aa36c16d-32c6-4103-b96c-48ca49b8378d",
   "metadata": {
    "tags": []
   },
   "outputs": [],
   "source": [
    "import numpy as np\n",
    "\n",
    "def create_periodic_correlated_data(num_points):\n",
    "    np.random.seed(42)  # For reproducibility\n",
    "    X = np.linspace(0, 8, num_points)\n",
    "    # Increasing the period by reducing the frequency factor in the sinusoidal function\n",
    "    Y = np.sin(X * 0.5) + np.random.normal(0, 0.2, num_points)  # Smaller noise for clearer periodic pattern\n",
    "    return X, Y\n",
    "\n",
    "# Usage\n",
    "X, Y = create_periodic_correlated_data(100)"
   ]
  },
  {
   "cell_type": "code",
   "execution_count": 54,
   "id": "4e7006aa-9262-4ba1-8b78-17f4bcf37202",
   "metadata": {
    "tags": []
   },
   "outputs": [
    {
     "data": {
      "image/png": "[encoded data removed]",
      "text/plain": [
       "<Figure size 600x500 with 1 Axes>"
      ]
     },
     "metadata": {},
     "output_type": "display_data"
    }
   ],
   "source": [
    "# Plot the generated data\n",
    "plt.figure(figsize=(6, 5))\n",
    "plt.scatter(X, Y, color='blue')\n",
    "plt.xlabel('X')\n",
    "plt.ylabel('Y')\n",
    "plt.grid(True)\n",
    "plt.show()"
   ]
  },
  {
   "cell_type": "code",
   "execution_count": 55,
   "id": "1f9a3ec7-8e6b-47b6-83ad-9b1ee15fea0b",
   "metadata": {
    "tags": []
   },
   "outputs": [
    {
     "name": "stdout",
     "output_type": "stream",
     "text": [
      "Pearson's r: -0.571392185281161\n",
      "Spearman's ρ (rho): -0.4677587758775877\n",
      "Kendall's τ (tau): -0.3268686868686869\n"
     ]
    }
   ],
   "source": [
    "X, Y = create_periodic_correlated_data(100)  # Assuming this function is defined\n",
    "pearson_coeff, spearman_coeff, kendall_coeff = calculate_correlation_coeffs(X, Y)\n",
    "print(\"Pearson's r:\", pearson_coeff)\n",
    "print(\"Spearman's ρ (rho):\", spearman_coeff)\n",
    "print(\"Kendall's τ (tau):\", kendall_coeff)"
   ]
  },
  {
   "cell_type": "code",
   "execution_count": 56,
   "id": "b5f4623c-e9e4-4814-9cef-e22e0259f55b",
   "metadata": {
    "tags": []
   },
   "outputs": [
    {
     "data": {
      "text/plain": [
       "(0.6189618961896189, 2.596818686085231e-54)"
      ]
     },
     "execution_count": 56,
     "metadata": {},
     "output_type": "execute_result"
    }
   ],
   "source": [
    "xicor2(X, Y, ties=\"auto\")"
   ]
  },
  {
   "cell_type": "code",
   "execution_count": null,
   "id": "6b02bc45-66e6-41de-a99f-591b74c82c2b",
   "metadata": {},
   "outputs": [],
   "source": []
  }
 ],
 "metadata": {
  "kernelspec": {
   "display_name": "Python 3 (ipykernel)",
   "language": "python",
   "name": "python3"
  },
  "language_info": {
   "codemirror_mode": {
    "name": "ipython",
    "version": 3
   },
   "file_extension": ".py",
   "mimetype": "text/x-python",
   "name": "python",
   "nbconvert_exporter": "python",
   "pygments_lexer": "ipython3",
   "version": "3.11.5"
  }
 },
 "nbformat": 4,
 "nbformat_minor": 5
}
